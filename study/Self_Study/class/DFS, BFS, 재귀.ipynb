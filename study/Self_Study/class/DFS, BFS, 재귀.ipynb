{
 "cells": [
  {
   "cell_type": "code",
   "execution_count": null,
   "metadata": {},
   "outputs": [],
   "source": [
    "# DFS 재귀적 구현\n",
    "def dfs_recursive(graph, start, visited=None):\n",
    "    if visited is None:\n",
    "        visited = set()\n",
    "    \n",
    "    visited.add(start)\n",
    "    print(start, end=' ')  # 방문한 노드 출력 (문제에 따라 다르게 처리 가능)\n",
    "\n",
    "    for neighbor in graph[start]:\n",
    "        if neighbor not in visited:\n",
    "            dfs_recursive(graph, neighbor, visited)\n",
    "\n",
    "# 그래프 예시\n",
    "graph = {\n",
    "    'A': ['B', 'C'],\n",
    "    'B': ['A', 'D', 'E'],\n",
    "    'C': ['A', 'F'],\n",
    "    'D': ['B'],\n",
    "    'E': ['B', 'F'],\n",
    "    'F': ['C', 'E']\n",
    "}\n",
    "\n",
    "# DFS 호출\n",
    "dfs_recursive(graph, 'A')\n"
   ]
  },
  {
   "cell_type": "code",
   "execution_count": null,
   "metadata": {},
   "outputs": [],
   "source": [
    "# DFS 스택 활용 구현\n",
    "def dfs_iterative(graph, start):\n",
    "    visited = set()\n",
    "    stack = [start]\n",
    "\n",
    "    while stack:\n",
    "        vertex = stack.pop()\n",
    "        if vertex not in visited:\n",
    "            visited.add(vertex)\n",
    "            print(vertex, end=' ')  # 방문한 노드 출력 (문제에 따라 다르게 처리 가능)\n",
    "\n",
    "            # 인접 노드를 스택에 추가\n",
    "            stack.extend(reversed(graph[vertex]))\n",
    "\n",
    "# DFS 호출\n",
    "dfs_iterative(graph, 'A')\n"
   ]
  },
  {
   "cell_type": "code",
   "execution_count": null,
   "metadata": {},
   "outputs": [],
   "source": [
    "# BFS 큐 활용 구현\n",
    "from collections import deque\n",
    "\n",
    "def bfs(graph, start):\n",
    "    visited = set()\n",
    "    queue = deque([start])\n",
    "\n",
    "    while queue:\n",
    "        vertex = queue.popleft()\n",
    "        if vertex not in visited:\n",
    "            visited.add(vertex)\n",
    "            print(vertex, end=' ')  # 방문한 노드 출력 (문제에 따라 다르게 처리 가능)\n",
    "\n",
    "            # 인접 노드를 큐에 추가\n",
    "            queue.extend(graph[vertex])\n",
    "\n",
    "# BFS 호출\n",
    "bfs(graph, 'A')\n"
   ]
  },
  {
   "cell_type": "code",
   "execution_count": null,
   "metadata": {},
   "outputs": [],
   "source": [
    "# 백트래킹 활용\n",
    "def backtrack_combinations(arr, path, k, start):\n",
    "    if len(path) == k:\n",
    "        print(path)  # 현재 조합 출력 (문제에 따라 다르게 처리 가능)\n",
    "        return\n",
    "\n",
    "    for i in range(start, len(arr)):\n",
    "        backtrack_combinations(arr, path + [arr[i]], k, i + 1)\n",
    "\n",
    "# 사용 예시\n",
    "arr = [1, 2, 3, 4]\n",
    "k = 2\n",
    "backtrack_combinations(arr, [], k, 0)\n"
   ]
  },
  {
   "cell_type": "markdown",
   "metadata": {},
   "source": [
    "### 위 코드들 요약\n",
    "- DFS는 깊이 우선 탐색으로 그래프의 모든 노드를 방문해야 하는 문제에 적합\n",
    "- BFS는 너비 우선 탐색으로 최단 경로를 찾거나 가까운 노드부터 탐색하는 문제에 적합\n",
    "- 백트래킹은 모든 가능한 조합, 경로, 배열 등을 찾는 데 유용하며, 문제의 조건을 만족하지 않으면 탐색을 중단하는 효율적인 방법"
   ]
  }
 ],
 "metadata": {
  "language_info": {
   "name": "python"
  }
 },
 "nbformat": 4,
 "nbformat_minor": 2
}
